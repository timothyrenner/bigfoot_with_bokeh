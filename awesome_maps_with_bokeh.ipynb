{
 "cells": [
  {
   "cell_type": "markdown",
   "metadata": {
    "nbpresent": {
     "id": "5e7d6e61-f038-4256-8575-217585806fd0"
    },
    "slideshow": {
     "slide_type": "slide"
    }
   },
   "source": [
    "# Awesome Maps with Bokeh\n",
    "\n",
    "\n",
    "---\n",
    "\n",
    "## Tim Renner\n",
    "## PyData Meetup 4/25"
   ]
  },
  {
   "cell_type": "markdown",
   "metadata": {
    "collapsed": true,
    "nbpresent": {
     "id": "d329d71f-d7a1-4008-8b23-70fb5093035a"
    },
    "slideshow": {
     "slide_type": "slide"
    }
   },
   "source": [
    "# About Me\n",
    "---\n",
    "\n",
    "## Data Scientist (Geo) @ HomeAway\n",
    "## Github: [github.com/timothyrenner](http://www.github.com/timothyrenner)"
   ]
  },
  {
   "cell_type": "markdown",
   "metadata": {
    "nbpresent": {
     "id": "4ce1ded5-71df-41d6-a4db-5810ad18e86d"
    },
    "slideshow": {
     "slide_type": "slide"
    }
   },
   "source": [
    "<center>![](https://www.outsideonline.com/sites/default/files/styles/three-quarter-page-scaled-1x/public/bigfoot-patterson-inline.jpg?itok=w4cVFPEB)</center>"
   ]
  },
  {
   "cell_type": "markdown",
   "metadata": {
    "nbpresent": {
     "id": "1872c1fc-d75c-4c6d-a657-1d88f50d4292"
    },
    "slideshow": {
     "slide_type": "slide"
    }
   },
   "source": [
    "## Import data into GeoPandas."
   ]
  },
  {
   "cell_type": "code",
   "execution_count": 22,
   "metadata": {
    "nbpresent": {
     "id": "2182face-6d22-4e40-9d39-6b0bb71d6200"
    },
    "slideshow": {
     "slide_type": "-"
    }
   },
   "outputs": [],
   "source": [
    "from shapely.geometry import Point\n",
    "import geopandas as gpd\n",
    "import pandas as pd\n",
    "\n",
    "sightings_csv = pd.read_csv('data/california_sightings.csv')\n",
    "\n",
    "# Use the set_geometry method with shapely Point objects to \n",
    "# define the geometry.\n",
    "sightings = \\\n",
    "    gpd.GeoDataFrame(sightings_csv, geometry = None)\\\n",
    "       .set_geometry(\n",
    "           # Build a list of Point objects.\n",
    "           [Point(r['longitude'], r['latitude']) \n",
    "            for _,r in sightings_csv.iterrows()],\n",
    "           # Assign EPSG:4326 Lat/Lon coordinates.\n",
    "           crs = {\"init\":\"epsg:4326\"})"
   ]
  },
  {
   "cell_type": "markdown",
   "metadata": {
    "collapsed": true,
    "nbpresent": {
     "id": "c737ce52-31fc-4746-a363-0d96a51b9599"
    },
    "slideshow": {
     "slide_type": "slide"
    }
   },
   "source": [
    "## Define and apply projections onto the dataset."
   ]
  },
  {
   "cell_type": "code",
   "execution_count": 23,
   "metadata": {
    "collapsed": true,
    "nbpresent": {
     "id": "f39a34ad-dd11-4fe0-a4f5-396b3b672150"
    },
    "slideshow": {
     "slide_type": "-"
    }
   },
   "outputs": [],
   "source": [
    "sightings.to_crs({\"init\": \"epsg:3857\"}, inplace=True)"
   ]
  },
  {
   "cell_type": "markdown",
   "metadata": {
    "nbpresent": {
     "id": "66c56f1c-e643-4556-9cb8-a9440027fd38"
    },
    "slideshow": {
     "slide_type": "slide"
    }
   },
   "source": [
    "## Make clusters."
   ]
  },
  {
   "cell_type": "code",
   "execution_count": 25,
   "metadata": {
    "slideshow": {
     "slide_type": "-"
    }
   },
   "outputs": [],
   "source": [
    "from sklearn.neighbors import DistanceMetric\n",
    "from sklearn.cluster import DBSCAN\n",
    "import numpy as np\n",
    "\n",
    "haversine = DistanceMetric.get_metric('haversine')\n",
    "\n",
    "# Build the distance matrix with the Haversine distance.\n",
    "sighting_distance_matrix = \\\n",
    "    haversine.pairwise(\n",
    "        sightings[['latitude','longitude']] * np.pi / 180.0)\n",
    "\n",
    "# Apply the density based clustering.\n",
    "dbscan = DBSCAN(eps=0.0075, metric=\"precomputed\")\n",
    "\n",
    "sightings['cluster'] = \\\n",
    "    dbscan.fit_predict(sighting_distance_matrix)"
   ]
  },
  {
   "cell_type": "markdown",
   "metadata": {
    "slideshow": {
     "slide_type": "slide"
    }
   },
   "source": [
    "# Make polygons out of clusters."
   ]
  },
  {
   "cell_type": "code",
   "execution_count": 26,
   "metadata": {
    "collapsed": true,
    "slideshow": {
     "slide_type": "-"
    }
   },
   "outputs": [],
   "source": [
    "cluster_polygons = \\\n",
    "    [\n",
    "        # unary_union makes a multipoint, \n",
    "        # convex_hull draws the polygon.\n",
    "        group.geometry.unary_union.convex_hull\n",
    "        for cluster, group \n",
    "        in sightings[['cluster','geometry']].groupby('cluster')\n",
    "        # Cluster -1 is for \"noise outliers\".\n",
    "        if cluster != -1\n",
    "    ]"
   ]
  },
  {
   "cell_type": "markdown",
   "metadata": {
    "slideshow": {
     "slide_type": "slide"
    }
   },
   "source": [
    "# Extract the coordinates for Bokeh."
   ]
  },
  {
   "cell_type": "code",
   "execution_count": 27,
   "metadata": {
    "collapsed": true,
    "slideshow": {
     "slide_type": "-"
    }
   },
   "outputs": [],
   "source": [
    "from toolz import get, compose, curry\n",
    "\n",
    "point_x = [p.coords[0][0] for p in sightings.geometry]\n",
    "point_y = [p.coords[0][1] for p in sightings.geometry]\n",
    "\n",
    "# Helpers for the patches.\n",
    "listmap = compose(list,map)\n",
    "get_x = curry(get)(0)\n",
    "get_y = curry(get)(1)\n",
    "\n",
    "patch_coords = [cp.exterior.coords for cp in cluster_polygons]\n",
    "\n",
    "# A list of lists of x and y coordinates.\n",
    "patch_xs = [listmap(get_x, pc) for pc in patch_coords]\n",
    "patch_ys = [listmap(get_y, pc) for pc in patch_coords]"
   ]
  },
  {
   "cell_type": "markdown",
   "metadata": {
    "nbpresent": {
     "id": "dd25ae5d-fbeb-4da4-9e51-024a5adf8e13"
    },
    "slideshow": {
     "slide_type": "slide"
    }
   },
   "source": [
    "# Draw the blank map."
   ]
  },
  {
   "cell_type": "code",
   "execution_count": 35,
   "metadata": {
    "nbpresent": {
     "id": "8b71ce57-b695-4e75-91cd-741e6375aed1"
    },
    "slideshow": {
     "slide_type": "-"
    }
   },
   "outputs": [
    {
     "data": {
      "text/html": [
       "<div style=\"display: table;\"><div style=\"display: table-row;\"><div style=\"display: table-cell;\"><b title=\"bokeh.models.renderers.TileRenderer\">TileRenderer</b>(</div><div style=\"display: table-cell;\">id&nbsp;=&nbsp;'5d74e222-171a-4560-bc73-7746e5f3a1fa', <span id=\"69e9268f-66ed-47c9-923d-a14248559336\" style=\"cursor: pointer;\">&hellip;)</span></div></div><div class=\"a8a88fd7-a6e8-4785-ba7d-04c5329c1954\" style=\"display: none;\"><div style=\"display: table-cell;\"></div><div style=\"display: table-cell;\">alpha&nbsp;=&nbsp;1.0,</div></div><div class=\"a8a88fd7-a6e8-4785-ba7d-04c5329c1954\" style=\"display: none;\"><div style=\"display: table-cell;\"></div><div style=\"display: table-cell;\">js_event_callbacks&nbsp;=&nbsp;{},</div></div><div class=\"a8a88fd7-a6e8-4785-ba7d-04c5329c1954\" style=\"display: none;\"><div style=\"display: table-cell;\"></div><div style=\"display: table-cell;\">js_property_callbacks&nbsp;=&nbsp;{},</div></div><div class=\"a8a88fd7-a6e8-4785-ba7d-04c5329c1954\" style=\"display: none;\"><div style=\"display: table-cell;\"></div><div style=\"display: table-cell;\">level&nbsp;=&nbsp;'underlay',</div></div><div class=\"a8a88fd7-a6e8-4785-ba7d-04c5329c1954\" style=\"display: none;\"><div style=\"display: table-cell;\"></div><div style=\"display: table-cell;\">name&nbsp;=&nbsp;None,</div></div><div class=\"a8a88fd7-a6e8-4785-ba7d-04c5329c1954\" style=\"display: none;\"><div style=\"display: table-cell;\"></div><div style=\"display: table-cell;\">render_parents&nbsp;=&nbsp;True,</div></div><div class=\"a8a88fd7-a6e8-4785-ba7d-04c5329c1954\" style=\"display: none;\"><div style=\"display: table-cell;\"></div><div style=\"display: table-cell;\">subscribed_events&nbsp;=&nbsp;[],</div></div><div class=\"a8a88fd7-a6e8-4785-ba7d-04c5329c1954\" style=\"display: none;\"><div style=\"display: table-cell;\"></div><div style=\"display: table-cell;\">tags&nbsp;=&nbsp;[],</div></div><div class=\"a8a88fd7-a6e8-4785-ba7d-04c5329c1954\" style=\"display: none;\"><div style=\"display: table-cell;\"></div><div style=\"display: table-cell;\">tile_source&nbsp;=&nbsp;WMTSTileSource(id='2df70037-abd3-4ee3-acdc-876a66af3009', ...),</div></div><div class=\"a8a88fd7-a6e8-4785-ba7d-04c5329c1954\" style=\"display: none;\"><div style=\"display: table-cell;\"></div><div style=\"display: table-cell;\">visible&nbsp;=&nbsp;True,</div></div><div class=\"a8a88fd7-a6e8-4785-ba7d-04c5329c1954\" style=\"display: none;\"><div style=\"display: table-cell;\"></div><div style=\"display: table-cell;\">x_range_name&nbsp;=&nbsp;'default',</div></div><div class=\"a8a88fd7-a6e8-4785-ba7d-04c5329c1954\" style=\"display: none;\"><div style=\"display: table-cell;\"></div><div style=\"display: table-cell;\">y_range_name&nbsp;=&nbsp;'default')</div></div></div>\n",
       "<script>\n",
       "(function() {\n",
       "  var expanded = false;\n",
       "  var ellipsis = document.getElementById(\"69e9268f-66ed-47c9-923d-a14248559336\");\n",
       "  ellipsis.addEventListener(\"click\", function() {\n",
       "    var rows = document.getElementsByClassName(\"a8a88fd7-a6e8-4785-ba7d-04c5329c1954\");\n",
       "    for (var i = 0; i < rows.length; i++) {\n",
       "      var el = rows[i];\n",
       "      el.style.display = expanded ? \"none\" : \"table-row\";\n",
       "    }\n",
       "    ellipsis.innerHTML = expanded ? \"&hellip;)\" : \"&lsaquo;&lsaquo;&lsaquo;\";\n",
       "    expanded = !expanded;\n",
       "  });\n",
       "})();\n",
       "</script>\n"
      ],
      "text/plain": [
       "TileRenderer(id='5d74e222-171a-4560-bc73-7746e5f3a1fa', ...)"
      ]
     },
     "execution_count": 35,
     "metadata": {},
     "output_type": "execute_result"
    }
   ],
   "source": [
    "import bokeh.plotting as bp\n",
    "from bokeh.tile_providers import CARTODBPOSITRON_RETINA\n",
    "\n",
    "x_range = [min(x)+2500000, max(x)-2500000]\n",
    "y_range = [min(y)+75000, max(y)-75000]\n",
    "\n",
    "bigfoot_map = \\\n",
    "    bp.figure(\n",
    "        tools = 'pan,wheel_zoom,reset',\n",
    "        plot_width = 800, \n",
    "        plot_height = 500,\n",
    "        x_range = x_range, \n",
    "        y_range = y_range)\n",
    "\n",
    "# Turn off the grids and whatnot.\n",
    "bigfoot_map.axis.visible= False\n",
    "bigfoot_map.xgrid.grid_line_color = None\n",
    "bigfoot_map.ygrid.grid_line_color = None\n",
    "\n",
    "# Add the tiles.\n",
    "bigfoot_map.add_tile(CARTODBPOSITRON_RETINA)"
   ]
  },
  {
   "cell_type": "markdown",
   "metadata": {
    "slideshow": {
     "slide_type": "slide"
    }
   },
   "source": [
    "# Find Bigfoot."
   ]
  },
  {
   "cell_type": "code",
   "execution_count": 36,
   "metadata": {
    "nbpresent": {
     "id": "21b98d8c-9af0-4b45-8e53-260667743202"
    },
    "scrolled": false,
    "slideshow": {
     "slide_type": "slide"
    }
   },
   "outputs": [
    {
     "data": {
      "text/html": [
       "\n",
       "    <div class=\"bk-root\">\n",
       "        <a href=\"http://bokeh.pydata.org\" target=\"_blank\" class=\"bk-logo bk-logo-small bk-logo-notebook\"></a>\n",
       "        <span id=\"7de10b34-e283-4465-b135-b2f85d947ce7\">Loading BokehJS ...</span>\n",
       "    </div>"
      ]
     },
     "metadata": {},
     "output_type": "display_data"
    },
    {
     "data": {
      "application/javascript": [
       "\n",
       "(function(global) {\n",
       "  function now() {\n",
       "    return new Date();\n",
       "  }\n",
       "\n",
       "  var force = true;\n",
       "\n",
       "  if (typeof (window._bokeh_onload_callbacks) === \"undefined\" || force === true) {\n",
       "    window._bokeh_onload_callbacks = [];\n",
       "    window._bokeh_is_loading = undefined;\n",
       "  }\n",
       "\n",
       "\n",
       "  \n",
       "  if (typeof (window._bokeh_timeout) === \"undefined\" || force === true) {\n",
       "    window._bokeh_timeout = Date.now() + 5000;\n",
       "    window._bokeh_failed_load = false;\n",
       "  }\n",
       "\n",
       "  var NB_LOAD_WARNING = {'data': {'text/html':\n",
       "     \"<div style='background-color: #fdd'>\\n\"+\n",
       "     \"<p>\\n\"+\n",
       "     \"BokehJS does not appear to have successfully loaded. If loading BokehJS from CDN, this \\n\"+\n",
       "     \"may be due to a slow or bad network connection. Possible fixes:\\n\"+\n",
       "     \"</p>\\n\"+\n",
       "     \"<ul>\\n\"+\n",
       "     \"<li>re-rerun `output_notebook()` to attempt to load from CDN again, or</li>\\n\"+\n",
       "     \"<li>use INLINE resources instead, as so:</li>\\n\"+\n",
       "     \"</ul>\\n\"+\n",
       "     \"<code>\\n\"+\n",
       "     \"from bokeh.resources import INLINE\\n\"+\n",
       "     \"output_notebook(resources=INLINE)\\n\"+\n",
       "     \"</code>\\n\"+\n",
       "     \"</div>\"}};\n",
       "\n",
       "  function display_loaded() {\n",
       "    if (window.Bokeh !== undefined) {\n",
       "      var el = document.getElementById(\"7de10b34-e283-4465-b135-b2f85d947ce7\");\n",
       "      el.textContent = \"BokehJS \" + Bokeh.version + \" successfully loaded.\";\n",
       "    } else if (Date.now() < window._bokeh_timeout) {\n",
       "      setTimeout(display_loaded, 100)\n",
       "    }\n",
       "  }\n",
       "\n",
       "  function run_callbacks() {\n",
       "    window._bokeh_onload_callbacks.forEach(function(callback) { callback() });\n",
       "    delete window._bokeh_onload_callbacks\n",
       "    console.info(\"Bokeh: all callbacks have finished\");\n",
       "  }\n",
       "\n",
       "  function load_libs(js_urls, callback) {\n",
       "    window._bokeh_onload_callbacks.push(callback);\n",
       "    if (window._bokeh_is_loading > 0) {\n",
       "      console.log(\"Bokeh: BokehJS is being loaded, scheduling callback at\", now());\n",
       "      return null;\n",
       "    }\n",
       "    if (js_urls == null || js_urls.length === 0) {\n",
       "      run_callbacks();\n",
       "      return null;\n",
       "    }\n",
       "    console.log(\"Bokeh: BokehJS not loaded, scheduling load and callback at\", now());\n",
       "    window._bokeh_is_loading = js_urls.length;\n",
       "    for (var i = 0; i < js_urls.length; i++) {\n",
       "      var url = js_urls[i];\n",
       "      var s = document.createElement('script');\n",
       "      s.src = url;\n",
       "      s.async = false;\n",
       "      s.onreadystatechange = s.onload = function() {\n",
       "        window._bokeh_is_loading--;\n",
       "        if (window._bokeh_is_loading === 0) {\n",
       "          console.log(\"Bokeh: all BokehJS libraries loaded\");\n",
       "          run_callbacks()\n",
       "        }\n",
       "      };\n",
       "      s.onerror = function() {\n",
       "        console.warn(\"failed to load library \" + url);\n",
       "      };\n",
       "      console.log(\"Bokeh: injecting script tag for BokehJS library: \", url);\n",
       "      document.getElementsByTagName(\"head\")[0].appendChild(s);\n",
       "    }\n",
       "  };var element = document.getElementById(\"7de10b34-e283-4465-b135-b2f85d947ce7\");\n",
       "  if (element == null) {\n",
       "    console.log(\"Bokeh: ERROR: autoload.js configured with elementid '7de10b34-e283-4465-b135-b2f85d947ce7' but no matching script tag was found. \")\n",
       "    return false;\n",
       "  }\n",
       "\n",
       "  var js_urls = [\"https://cdn.pydata.org/bokeh/release/bokeh-0.12.5.min.js\", \"https://cdn.pydata.org/bokeh/release/bokeh-widgets-0.12.5.min.js\"];\n",
       "\n",
       "  var inline_js = [\n",
       "    function(Bokeh) {\n",
       "      Bokeh.set_log_level(\"info\");\n",
       "    },\n",
       "    \n",
       "    function(Bokeh) {\n",
       "      \n",
       "    },\n",
       "    \n",
       "    function(Bokeh) {\n",
       "      \n",
       "      document.getElementById(\"7de10b34-e283-4465-b135-b2f85d947ce7\").textContent = \"BokehJS is loading...\";\n",
       "    },\n",
       "    function(Bokeh) {\n",
       "      console.log(\"Bokeh: injecting CSS: https://cdn.pydata.org/bokeh/release/bokeh-0.12.5.min.css\");\n",
       "      Bokeh.embed.inject_css(\"https://cdn.pydata.org/bokeh/release/bokeh-0.12.5.min.css\");\n",
       "      console.log(\"Bokeh: injecting CSS: https://cdn.pydata.org/bokeh/release/bokeh-widgets-0.12.5.min.css\");\n",
       "      Bokeh.embed.inject_css(\"https://cdn.pydata.org/bokeh/release/bokeh-widgets-0.12.5.min.css\");\n",
       "    }\n",
       "  ];\n",
       "\n",
       "  function run_inline_js() {\n",
       "    \n",
       "    if ((window.Bokeh !== undefined) || (force === true)) {\n",
       "      for (var i = 0; i < inline_js.length; i++) {\n",
       "        inline_js[i](window.Bokeh);\n",
       "      }if (force === true) {\n",
       "        display_loaded();\n",
       "      }} else if (Date.now() < window._bokeh_timeout) {\n",
       "      setTimeout(run_inline_js, 100);\n",
       "    } else if (!window._bokeh_failed_load) {\n",
       "      console.log(\"Bokeh: BokehJS failed to load within specified timeout.\");\n",
       "      window._bokeh_failed_load = true;\n",
       "    } else if (force !== true) {\n",
       "      var cell = $(document.getElementById(\"7de10b34-e283-4465-b135-b2f85d947ce7\")).parents('.cell').data().cell;\n",
       "      cell.output_area.append_execute_result(NB_LOAD_WARNING)\n",
       "    }\n",
       "\n",
       "  }\n",
       "\n",
       "  if (window._bokeh_is_loading === 0) {\n",
       "    console.log(\"Bokeh: BokehJS loaded, going straight to plotting\");\n",
       "    run_inline_js();\n",
       "  } else {\n",
       "    load_libs(js_urls, function() {\n",
       "      console.log(\"Bokeh: BokehJS plotting callback run at\", now());\n",
       "      run_inline_js();\n",
       "    });\n",
       "  }\n",
       "}(this));"
      ]
     },
     "metadata": {},
     "output_type": "display_data"
    },
    {
     "data": {
      "text/html": [
       "\n",
       "\n",
       "    <div class=\"bk-root\">\n",
       "        <div class=\"bk-plotdiv\" id=\"9dd420a4-bbef-4a6e-bc08-e446d991be1a\"></div>\n",
       "    </div>\n",
       "<script type=\"text/javascript\">\n",
       "  \n",
       "  (function(global) {\n",
       "    function now() {\n",
       "      return new Date();\n",
       "    }\n",
       "  \n",
       "    var force = false;\n",
       "  \n",
       "    if (typeof (window._bokeh_onload_callbacks) === \"undefined\" || force === true) {\n",
       "      window._bokeh_onload_callbacks = [];\n",
       "      window._bokeh_is_loading = undefined;\n",
       "    }\n",
       "  \n",
       "  \n",
       "    \n",
       "    if (typeof (window._bokeh_timeout) === \"undefined\" || force === true) {\n",
       "      window._bokeh_timeout = Date.now() + 0;\n",
       "      window._bokeh_failed_load = false;\n",
       "    }\n",
       "  \n",
       "    var NB_LOAD_WARNING = {'data': {'text/html':\n",
       "       \"<div style='background-color: #fdd'>\\n\"+\n",
       "       \"<p>\\n\"+\n",
       "       \"BokehJS does not appear to have successfully loaded. If loading BokehJS from CDN, this \\n\"+\n",
       "       \"may be due to a slow or bad network connection. Possible fixes:\\n\"+\n",
       "       \"</p>\\n\"+\n",
       "       \"<ul>\\n\"+\n",
       "       \"<li>re-rerun `output_notebook()` to attempt to load from CDN again, or</li>\\n\"+\n",
       "       \"<li>use INLINE resources instead, as so:</li>\\n\"+\n",
       "       \"</ul>\\n\"+\n",
       "       \"<code>\\n\"+\n",
       "       \"from bokeh.resources import INLINE\\n\"+\n",
       "       \"output_notebook(resources=INLINE)\\n\"+\n",
       "       \"</code>\\n\"+\n",
       "       \"</div>\"}};\n",
       "  \n",
       "    function display_loaded() {\n",
       "      if (window.Bokeh !== undefined) {\n",
       "        var el = document.getElementById(\"9dd420a4-bbef-4a6e-bc08-e446d991be1a\");\n",
       "        el.textContent = \"BokehJS \" + Bokeh.version + \" successfully loaded.\";\n",
       "      } else if (Date.now() < window._bokeh_timeout) {\n",
       "        setTimeout(display_loaded, 100)\n",
       "      }\n",
       "    }\n",
       "  \n",
       "    function run_callbacks() {\n",
       "      window._bokeh_onload_callbacks.forEach(function(callback) { callback() });\n",
       "      delete window._bokeh_onload_callbacks\n",
       "      console.info(\"Bokeh: all callbacks have finished\");\n",
       "    }\n",
       "  \n",
       "    function load_libs(js_urls, callback) {\n",
       "      window._bokeh_onload_callbacks.push(callback);\n",
       "      if (window._bokeh_is_loading > 0) {\n",
       "        console.log(\"Bokeh: BokehJS is being loaded, scheduling callback at\", now());\n",
       "        return null;\n",
       "      }\n",
       "      if (js_urls == null || js_urls.length === 0) {\n",
       "        run_callbacks();\n",
       "        return null;\n",
       "      }\n",
       "      console.log(\"Bokeh: BokehJS not loaded, scheduling load and callback at\", now());\n",
       "      window._bokeh_is_loading = js_urls.length;\n",
       "      for (var i = 0; i < js_urls.length; i++) {\n",
       "        var url = js_urls[i];\n",
       "        var s = document.createElement('script');\n",
       "        s.src = url;\n",
       "        s.async = false;\n",
       "        s.onreadystatechange = s.onload = function() {\n",
       "          window._bokeh_is_loading--;\n",
       "          if (window._bokeh_is_loading === 0) {\n",
       "            console.log(\"Bokeh: all BokehJS libraries loaded\");\n",
       "            run_callbacks()\n",
       "          }\n",
       "        };\n",
       "        s.onerror = function() {\n",
       "          console.warn(\"failed to load library \" + url);\n",
       "        };\n",
       "        console.log(\"Bokeh: injecting script tag for BokehJS library: \", url);\n",
       "        document.getElementsByTagName(\"head\")[0].appendChild(s);\n",
       "      }\n",
       "    };var element = document.getElementById(\"9dd420a4-bbef-4a6e-bc08-e446d991be1a\");\n",
       "    if (element == null) {\n",
       "      console.log(\"Bokeh: ERROR: autoload.js configured with elementid '9dd420a4-bbef-4a6e-bc08-e446d991be1a' but no matching script tag was found. \")\n",
       "      return false;\n",
       "    }\n",
       "  \n",
       "    var js_urls = [];\n",
       "  \n",
       "    var inline_js = [\n",
       "      function(Bokeh) {\n",
       "        (function() {\n",
       "          var fn = function() {\n",
       "            var docs_json = {\"363007b6-4b8a-44bc-95a0-b7696ebe46ff\":{\"roots\":{\"references\":[{\"attributes\":{\"callback\":null,\"column_names\":[\"x\",\"y\"],\"data\":{\"x\":[-13318664.628674105,-13356479.859696582,-13368513.496651333,-13821706.27561983,-13340082.498702733,-13571393.268622074,-13270608.00449865,-13347930.522803657,-13433824.641899746,-13381159.39080545,-13356479.859696582,-13373456.082042556,-13246741.105672574,-13379233.563614728,-13230199.029340692,-13356234.956816833,-13628912.049514959,-13623713.429294912,-13276430.013867138,-13662519.40378545,-13384376.524089376,-13150204.843256645,-13343121.520801388,-13691829.82571132,-13706958.144510124,-13645910.535759091,-13457502.297591476,-13275617.381584346,-13009073.992828932,-13611067.5351408,-13387871.956100283,-13538186.66451844,-13745919.96628777,-13359819.44442038,-13356479.859696582,-13789056.268970162,-13789056.268970162,-13524761.533928772,-13623000.984553836,-13600803.878089657,-13471450.629787873,-13745919.96628777,-13777735.076756487,-13243902.458657343,-13423304.950019784,-13534223.6906462,-13803616.858365921,-13270608.00449865,-13218098.600691462,-13394796.028427627,-13385434.05925191,-13547582.029541396,-13599534.835894616,-13753523.087508949,-13425497.94398841,-13380714.112842279,-13611924.695219904,-13549207.294106975,-13731259.189350294,-13308055.881201506,-13475413.603660114,-13786918.934746932,-13722554.005170261,-13731259.189350294,-13523882.109951507,-13400462.190509003,-13670645.726613356,-13382840.31511643,-13237735.358867396,-13811264.507383423,-13655194.58129125,-13549118.23851434,-13710865.458636966,-13183934.648967007,-13698531.259057071,-13718936.12171948,-13247019.404399555,-13735700.837032946,-13334438.600519516,-13279480.167914873,-12972427.616459787,-13177444.722653758,-13477450.750341631,-13698809.557784056,-13149614.849955441,-13350034.46117965,-13711767.146512391,-13381526.745125066,-13489695.894328894,-13200643.704535078,-13742368.874531465,-13419564.61512913,-13469658.385986103,-13644986.58398551,-13316415.974960081,-13062173.389937324,-13242611.152564142,-13825880.756524578,-13394985.271561975,-13792484.909286596,-13326178.694302652,-13450455.773824263,-13436852.532049323,-13358305.49934559,-13182943.905498948,-13273580.234902829,-13780573.723771714,-13356557.783340137,-13328004.333951663,-13356234.956816833,-13330386.571054637,-13471417.233940637,-13418607.267508306,-13364149.772612238,-13364149.772612238,-13359262.846966414,-13449275.787221853,-13363993.925325125,-13568521.225759607,-13356234.956816833,-13810785.83357301,-13242477.56917519,-13390254.19320326,-13369904.990286248,-13388027.803387394,-13255212.518921942,-13210773.778197266,-13432611.2594501,-13248566.745321581,-13478597.3410968,-13624459.269883228,-13368513.496651333,-13368513.496651333,-13775575.478635097,-13362758.278977321,-13551077.461552301,-13375560.020418549,-13357492.867062801,-13471328.178348001,-13781820.5020686,-13194387.549152495,-13500082.002819905,-13243557.368235884,-13294608.486713678,-13362669.223384686,-13762239.403638061,-13203359.900110433,-12991852.867603214,-13825947.548219051,-13173058.734716503,-13273179.484735975,-13399404.655346466,-13330720.529527018,-13712089.973035693,-13338390.442442674,-13384966.517390579,-13387315.358646316,-13716876.711139804,-13200498.989197047,-13423527.58900137,-13203515.747397542,-13746932.973653985,-13719014.045363033,-13342854.354023483,-13658745.673047557,-13516412.572119277,-13387682.712965937,-13410469.81273132,-13338390.442442674,-13450667.28085677,-13765556.724463703,-13344891.500705,-13678037.34080203,-13458337.193772426,-13651788.204872977,-13617713.308741156,-13397701.467137331,-13810140.18052641,-13358862.096799556,-13646099.778893441,-13420889.317069568,-13705099.109013876,-13544799.04227156,-13243190.013916265,-13523336.644446619,-13416937.475146407,-13525618.694007883,-13658901.520334667,-13363804.682190778,-13708995.29119164,-13298515.800840523,-13195222.445333445,-13770221.011127941,-13369125.753850698,-13422503.449686073,-13242722.472054934,-13154947.053564437,-13425676.055173678,-13352784.052602245,-13242466.437226111,-13358594.930021653,-13367611.80877591,-13766514.072084524,-13571704.963196296,-13307131.929427925,-13734042.176620128,-13599623.891487248,-13160746.799034767,-13117142.954491042,-13440860.033717882,-13460084.90977788,-13379066.584378535,-13376884.722358987,-13606948.713981446,-13825880.756524578,-13741712.089535784,-13336186.316524968,-13404948.365987973,-13563723.355706418,-13385612.17043718,-13240184.387664847,-13233004.28050868,-13362969.78600983,-13154245.74077244,-13247019.404399555,-13274637.770065367,-13367522.753183274,-13177366.799010202,-13474990.589595098,-13724802.658884287,-13131992.974562865,-13158898.895487601,-13195066.598046334,-13343199.444444941,-13804741.185222933,-13362758.278977321,-12990984.575575024,-13372253.831541989,-13029011.31363001,-13271142.338054456,-13178045.847904041,-13177444.722653758,-13819390.830211328,-13205274.595352078,-13363448.45982024,-12983515.0377428,-13652411.59402142,-13001493.135505911,-13658901.520334667,-13186216.69852827,-13172457.60946622,-13260155.104313161,-13642537.555188054,-13403267.441676993,-13041790.791173076],\"y\":[4489327.216304678,4712126.161467181,4715585.639321036,4983212.782906722,4619176.823274232,4914825.435712812,4471758.373632822,4604427.669777874,5073005.965722106,4711649.627439852,4712126.161467181,4701637.567772626,4489210.973845075,4588774.8085096525,4314695.8175411755,4607367.880581425,5080182.105862731,5075686.927353936,4586217.305440279,4958734.553502456,4584933.843940508,4307886.251066865,4617157.629023655,5134677.243553384,5066432.896366976,4615629.316854469,4752196.473944909,4566876.236238154,3930864.1788766617,5043900.329730945,4767972.776451719,5001891.021385064,4820754.07266184,4701002.849728502,4712126.161467181,4904729.197095179,4904729.197095179,4334868.683332136,4995762.074216957,4855453.009238499,4759502.093325192,4820754.07266184,4753752.588600762,4518900.196799734,4681841.292437778,4751078.748387383,4933746.6930922475,4471758.373632822,4306649.859376518,4767493.602212922,4583834.264526931,4439106.787250583,4975536.361069248,4990241.810615548,4707833.8688866515,4408736.005534773,4982503.982490962,4352745.195864409,5123603.909661611,4622857.483285163,4758114.7251731,5108694.47561503,4975315.947829044,5123603.909661611,4494385.708889865,4794175.037527759,4965094.234610029,4701873.452821844,4520719.14984579,5043935.845088406,4973082.707383123,4648964.852276003,5136041.20835929,4111913.438815117,5055205.233855191,4842615.749689852,4570007.620136732,4795695.815759406,4626312.402470226,4113036.1979076364,4022092.9059812627,4398532.131439566,4505524.1013878435,4698773.073428558,4410105.137600239,4127776.404854245,5158949.93581742,4693060.787525555,4823165.831607439,4132216.209579155,5110072.625830788,4254623.257544145,4614802.875149339,5137789.399511984,4652670.434332482,4067357.368871776,4408156.436145293,4880484.665662283,5119543.264307467,5035970.349061679,4599458.408745609,4724417.882701646,4621972.302630599,4565191.691349583,4266923.497374274,4472147.075856633,5140135.765246902,4612312.610352036,4620639.001133919,4607367.880581425,4624335.791272235,4857630.705683039,5084474.307699533,4602407.114676692,4602407.114676692,4607481.200273183,4724576.925024907,4586690.869429703,4937771.2760401815,4607367.880581425,5056775.787811199,4530139.225645261,4617913.362529259,4590145.008050971,4586491.545825854,4549606.384832822,4331357.651444845,4764816.1143557,4486176.520052809,4707675.088864867,4951565.42247409,4715585.639321036,4715585.639321036,5068347.971850694,4644416.144372289,4944442.54401476,4605435.971369725,4614526.464331549,4759223.166669703,4785735.591506768,4315156.003387808,4814207.499071768,4450185.490826861,4536624.241234202,4645284.77887766,5003618.015925751,4241347.342496788,3997357.700831709,5124515.628362569,4233709.5123188095,4471447.981430437,4608346.7204893315,4625321.920949709,5059533.764790506,4689890.266754726,4721353.581617047,4624650.7749365885,4875028.770114475,4225184.620959242,4687550.141651981,4363064.644379395,4895858.816271985,4652633.443013034,4552998.879885931,5009883.153503356,4733137.373129502,4584095.722055065,4737679.988230149,4689890.266754726,4801846.210899363,5047107.595990012,4613314.5967362365,5011058.5005128095,4752755.383162774,5120536.635720854,4976271.107782042,4615471.961779965,5054757.820851862,4647101.89884443,4638218.418535826,4681366.174871934,4841269.007904743,4994657.771350637,4477158.143944067,4798918.492626492,4635969.630727189,4801122.86362956,4685924.221153926,4644328.005539192,4757545.456296021,4555542.567915585,4308000.534925421,4990241.810615548,4715943.534309264,4709052.69550106,4478263.333240281,4326713.9132666895,4707886.796112212,4666914.912478994,4200265.738796364,4110554.1036707554,4503181.884131719,5049286.83462301,4938854.536315687,4620708.498753496,5132725.005887259,4975536.361069248,4062420.520415545,4066488.381382611,4929062.6907329755,4775386.336073994,4612641.398539884,4733610.616413765,4995143.649194203,4909633.711705323,4731105.546684664,4635490.956789359,4781358.585542681,4446775.853223602,4581545.026556424,4457284.522655354,4479151.765697005,4608900.634883246,4328162.280391886,4523058.268765304,4566173.603886214,4693685.010875457,4461277.205688694,4714919.988225131,5047211.21714677,4259419.96554792,4310369.098273557,4546514.936454378,4604354.033634535,4917312.767352676,4593324.457174183,3984141.9884568136,4632537.023790267,4034395.975551931,4585311.23295039,4243023.917000125,4294891.908632075,5138533.598380198,4188026.2001995984,4584960.698883474,4004226.5091547817,4987784.458734979,4063174.7154604048,5029156.431755713,4118263.2407508446,4181467.771114559,4550276.906627165,4951100.761057746,4689330.529585691,3857572.838689714]}},\"id\":\"4077abfe-c5d4-4791-858e-2c498f939bbe\",\"type\":\"ColumnDataSource\"},{\"attributes\":{\"fill_alpha\":{\"value\":0.1},\"fill_color\":{\"value\":\"#1f77b4\"},\"line_alpha\":{\"value\":0.1},\"line_color\":{\"value\":\"#1f77b4\"},\"size\":{\"units\":\"screen\",\"value\":2},\"x\":{\"field\":\"x\"},\"y\":{\"field\":\"y\"}},\"id\":\"9c06b608-eed0-4a94-9b7c-dc610cdf3017\",\"type\":\"Circle\"},{\"attributes\":{\"fill_alpha\":{\"value\":0.1},\"fill_color\":{\"value\":\"#1f77b4\"},\"line_alpha\":{\"value\":0.1},\"line_color\":{\"value\":\"#1f77b4\"},\"xs\":{\"field\":\"xs\"},\"ys\":{\"field\":\"ys\"}},\"id\":\"d0ee963d-4dcb-4920-be97-dad93635ecc0\",\"type\":\"Patches\"},{\"attributes\":{\"plot\":{\"id\":\"0bd96795-9e59-4d57-8659-f3e59cc33ecb\",\"subtype\":\"Figure\",\"type\":\"Plot\"}},\"id\":\"5bbbd28f-a6c0-4b14-a5a9-ef01d8316d2a\",\"type\":\"ResetTool\"},{\"attributes\":{\"fill_alpha\":{\"value\":0.1},\"fill_color\":{\"value\":\"lightblue\"},\"line_color\":{\"value\":\"lightblue\"},\"xs\":{\"field\":\"xs\"},\"ys\":{\"field\":\"ys\"}},\"id\":\"bc2443ff-c1c4-4466-a870-b6056ccd6b0b\",\"type\":\"Patches\"},{\"attributes\":{\"data_source\":{\"id\":\"e8f0e0ea-a0c5-4179-8d2c-8cf0d456cf75\",\"type\":\"ColumnDataSource\"},\"glyph\":{\"id\":\"bc2443ff-c1c4-4466-a870-b6056ccd6b0b\",\"type\":\"Patches\"},\"hover_glyph\":null,\"muted_glyph\":null,\"nonselection_glyph\":{\"id\":\"d0ee963d-4dcb-4920-be97-dad93635ecc0\",\"type\":\"Patches\"},\"selection_glyph\":null},\"id\":\"3c89dc5d-2f25-4ad2-a0cc-88468f59aab9\",\"type\":\"GlyphRenderer\"},{\"attributes\":{\"data_source\":{\"id\":\"4077abfe-c5d4-4791-858e-2c498f939bbe\",\"type\":\"ColumnDataSource\"},\"glyph\":{\"id\":\"5a688c9c-9592-436e-8d09-e44dcd07f175\",\"type\":\"Circle\"},\"hover_glyph\":null,\"muted_glyph\":null,\"nonselection_glyph\":{\"id\":\"9c06b608-eed0-4a94-9b7c-dc610cdf3017\",\"type\":\"Circle\"},\"selection_glyph\":null},\"id\":\"1a23354f-ba4d-45dc-abed-8f4188538f6d\",\"type\":\"GlyphRenderer\"},{\"attributes\":{\"plot\":{\"id\":\"0bd96795-9e59-4d57-8659-f3e59cc33ecb\",\"subtype\":\"Figure\",\"type\":\"Plot\"}},\"id\":\"c419bda0-c352-4d85-8e47-5430c95293b8\",\"type\":\"PanTool\"},{\"attributes\":{\"plot\":{\"id\":\"0bd96795-9e59-4d57-8659-f3e59cc33ecb\",\"subtype\":\"Figure\",\"type\":\"Plot\"}},\"id\":\"e3c45d55-7cfa-4e70-92bc-6b981178c5ee\",\"type\":\"WheelZoomTool\"},{\"attributes\":{},\"id\":\"c257d5dd-b73e-46d1-99e6-04a2b2127bbc\",\"type\":\"BasicTicker\"},{\"attributes\":{\"below\":[{\"id\":\"535f3312-7efb-4e32-8c6f-2ad2f4fa8721\",\"type\":\"LinearAxis\"}],\"left\":[{\"id\":\"15d63df9-17a0-455b-9e86-7bef51e8d69b\",\"type\":\"LinearAxis\"}],\"plot_height\":500,\"plot_width\":800,\"renderers\":[{\"id\":\"535f3312-7efb-4e32-8c6f-2ad2f4fa8721\",\"type\":\"LinearAxis\"},{\"id\":\"03b0abe5-a1e4-4bb3-b28a-57eca5fc6ca1\",\"type\":\"Grid\"},{\"id\":\"15d63df9-17a0-455b-9e86-7bef51e8d69b\",\"type\":\"LinearAxis\"},{\"id\":\"3cae9eb1-65d3-48bb-b496-4267948abf7c\",\"type\":\"Grid\"},{\"id\":\"5d74e222-171a-4560-bc73-7746e5f3a1fa\",\"type\":\"TileRenderer\"},{\"id\":\"1a23354f-ba4d-45dc-abed-8f4188538f6d\",\"type\":\"GlyphRenderer\"},{\"id\":\"3c89dc5d-2f25-4ad2-a0cc-88468f59aab9\",\"type\":\"GlyphRenderer\"}],\"title\":{\"id\":\"5ac11634-702c-4aa9-b652-92a09f39fc7e\",\"type\":\"Title\"},\"tool_events\":{\"id\":\"fbce0351-4518-4c3d-9996-15100930b203\",\"type\":\"ToolEvents\"},\"toolbar\":{\"id\":\"89866197-c09d-40ba-b99d-8a285dfa8707\",\"type\":\"Toolbar\"},\"x_range\":{\"id\":\"2e666f98-df13-43bf-bcdb-f93d4922c0a8\",\"type\":\"Range1d\"},\"y_range\":{\"id\":\"ed5dfb41-7393-4565-af9b-6931a0010b6c\",\"type\":\"Range1d\"}},\"id\":\"0bd96795-9e59-4d57-8659-f3e59cc33ecb\",\"subtype\":\"Figure\",\"type\":\"Plot\"},{\"attributes\":{\"callback\":null,\"column_names\":[\"xs\",\"ys\"],\"data\":{\"xs\":[[-13242611.152564142,-13367611.80877591,-13469658.385986103,-13534223.6906462,-13525618.694007883,-13471417.233940637,-13400462.190509003,-13195066.598046334,-13177366.799010202,-13242611.152564142],[-13777735.076756487,-13825880.756524578,-13825947.548219051,-13819390.830211328,-13711767.146512391,-13644986.58398551,-13538186.66451844,-13551077.461552301,-13571393.268622074,-13708995.29119164,-13777735.076756487],[-13183934.648967007,-13200643.704535078,-13242466.437226111,-13230199.029340692,-13203515.747397542,-13177444.722653758,-13154245.74077244,-13131992.974562865,-13183934.648967007],[-13009073.992828932,-13062173.389937324,-13001493.135505911,-12972427.616459787,-13009073.992828932],[-13719014.045363033,-13741712.089535784,-13658901.520334667,-13719014.045363033]],\"ys\":[[4408156.436145293,4503181.884131719,4614802.875149339,4751078.748387383,4801122.86362956,4857630.705683039,4794175.037527759,4546514.936454378,4461277.205688694,4408156.436145293],[4753752.588600762,4880484.665662283,5124515.628362569,5138533.598380198,5158949.93581742,5137789.399511984,5001891.021385064,4944442.54401476,4914825.435712812,4757545.456296021,4753752.588600762],[4111913.438815117,4132216.209579155,4200265.738796364,4314695.8175411755,4363064.644379395,4398532.131439566,4328162.280391886,4259419.96554792,4111913.438815117],[3930864.1788766617,4067357.368871776,4063174.7154604048,4022092.9059812627,3930864.1788766617],[4652633.443013034,4731105.546684664,4685924.221153926,4652633.443013034]]}},\"id\":\"e8f0e0ea-a0c5-4179-8d2c-8cf0d456cf75\",\"type\":\"ColumnDataSource\"},{\"attributes\":{\"dimension\":1,\"grid_line_color\":{\"value\":null},\"plot\":{\"id\":\"0bd96795-9e59-4d57-8659-f3e59cc33ecb\",\"subtype\":\"Figure\",\"type\":\"Plot\"},\"ticker\":{\"id\":\"c257d5dd-b73e-46d1-99e6-04a2b2127bbc\",\"type\":\"BasicTicker\"}},\"id\":\"3cae9eb1-65d3-48bb-b496-4267948abf7c\",\"type\":\"Grid\"},{\"attributes\":{},\"id\":\"b2325807-2d5b-4fb4-9102-0bcd4edc8f39\",\"type\":\"BasicTickFormatter\"},{\"attributes\":{},\"id\":\"fbce0351-4518-4c3d-9996-15100930b203\",\"type\":\"ToolEvents\"},{\"attributes\":{\"fill_alpha\":{\"value\":0.3},\"fill_color\":{\"value\":\"black\"},\"line_alpha\":{\"value\":0.3},\"size\":{\"units\":\"screen\",\"value\":2},\"x\":{\"field\":\"x\"},\"y\":{\"field\":\"y\"}},\"id\":\"5a688c9c-9592-436e-8d09-e44dcd07f175\",\"type\":\"Circle\"},{\"attributes\":{\"tile_source\":{\"id\":\"2df70037-abd3-4ee3-acdc-876a66af3009\",\"type\":\"WMTSTileSource\"}},\"id\":\"5d74e222-171a-4560-bc73-7746e5f3a1fa\",\"type\":\"TileRenderer\"},{\"attributes\":{\"active_drag\":\"auto\",\"active_scroll\":\"auto\",\"active_tap\":\"auto\",\"tools\":[{\"id\":\"c419bda0-c352-4d85-8e47-5430c95293b8\",\"type\":\"PanTool\"},{\"id\":\"e3c45d55-7cfa-4e70-92bc-6b981178c5ee\",\"type\":\"WheelZoomTool\"},{\"id\":\"5bbbd28f-a6c0-4b14-a5a9-ef01d8316d2a\",\"type\":\"ResetTool\"}]},\"id\":\"89866197-c09d-40ba-b99d-8a285dfa8707\",\"type\":\"Toolbar\"},{\"attributes\":{\"plot\":null,\"text\":\"\"},\"id\":\"5ac11634-702c-4aa9-b652-92a09f39fc7e\",\"type\":\"Title\"},{\"attributes\":{\"callback\":null,\"end\":-15472427.616459787,\"start\":-11325947.548219051},\"id\":\"2e666f98-df13-43bf-bcdb-f93d4922c0a8\",\"type\":\"Range1d\"},{\"attributes\":{\"attribution\":\"&copy; <a href=\\\"http://www.openstreetmap.org/copyright\\\">OpenStreetMap</a> contributors,&copy; <a href=\\\"https://cartodb.com/attributions\\\">CartoDB</a>\",\"url\":\"http://tiles.basemaps.cartocdn.com/light_all/{z}/{x}/{y}@2x.png\"},\"id\":\"2df70037-abd3-4ee3-acdc-876a66af3009\",\"type\":\"WMTSTileSource\"},{\"attributes\":{\"formatter\":{\"id\":\"b2325807-2d5b-4fb4-9102-0bcd4edc8f39\",\"type\":\"BasicTickFormatter\"},\"plot\":{\"id\":\"0bd96795-9e59-4d57-8659-f3e59cc33ecb\",\"subtype\":\"Figure\",\"type\":\"Plot\"},\"ticker\":{\"id\":\"f51f1865-c16e-43fc-bb33-5d5098dea4ac\",\"type\":\"BasicTicker\"},\"visible\":false},\"id\":\"535f3312-7efb-4e32-8c6f-2ad2f4fa8721\",\"type\":\"LinearAxis\"},{\"attributes\":{},\"id\":\"f51f1865-c16e-43fc-bb33-5d5098dea4ac\",\"type\":\"BasicTicker\"},{\"attributes\":{},\"id\":\"b2239c19-de8d-4b3f-9355-ecfb50a36056\",\"type\":\"BasicTickFormatter\"},{\"attributes\":{\"callback\":null,\"end\":5083949.93581742,\"start\":3932572.838689714},\"id\":\"ed5dfb41-7393-4565-af9b-6931a0010b6c\",\"type\":\"Range1d\"},{\"attributes\":{\"formatter\":{\"id\":\"b2239c19-de8d-4b3f-9355-ecfb50a36056\",\"type\":\"BasicTickFormatter\"},\"plot\":{\"id\":\"0bd96795-9e59-4d57-8659-f3e59cc33ecb\",\"subtype\":\"Figure\",\"type\":\"Plot\"},\"ticker\":{\"id\":\"c257d5dd-b73e-46d1-99e6-04a2b2127bbc\",\"type\":\"BasicTicker\"},\"visible\":false},\"id\":\"15d63df9-17a0-455b-9e86-7bef51e8d69b\",\"type\":\"LinearAxis\"},{\"attributes\":{\"grid_line_color\":{\"value\":null},\"plot\":{\"id\":\"0bd96795-9e59-4d57-8659-f3e59cc33ecb\",\"subtype\":\"Figure\",\"type\":\"Plot\"},\"ticker\":{\"id\":\"f51f1865-c16e-43fc-bb33-5d5098dea4ac\",\"type\":\"BasicTicker\"}},\"id\":\"03b0abe5-a1e4-4bb3-b28a-57eca5fc6ca1\",\"type\":\"Grid\"}],\"root_ids\":[\"0bd96795-9e59-4d57-8659-f3e59cc33ecb\"]},\"title\":\"Bokeh Application\",\"version\":\"0.12.5\"}};\n",
       "            var render_items = [{\"docid\":\"363007b6-4b8a-44bc-95a0-b7696ebe46ff\",\"elementid\":\"9dd420a4-bbef-4a6e-bc08-e446d991be1a\",\"modelid\":\"0bd96795-9e59-4d57-8659-f3e59cc33ecb\"}];\n",
       "            \n",
       "            Bokeh.embed.embed_items(docs_json, render_items);\n",
       "          };\n",
       "          if (document.readyState != \"loading\") fn();\n",
       "          else document.addEventListener(\"DOMContentLoaded\", fn);\n",
       "        })();\n",
       "      },\n",
       "      function(Bokeh) {\n",
       "      }\n",
       "    ];\n",
       "  \n",
       "    function run_inline_js() {\n",
       "      \n",
       "      if ((window.Bokeh !== undefined) || (force === true)) {\n",
       "        for (var i = 0; i < inline_js.length; i++) {\n",
       "          inline_js[i](window.Bokeh);\n",
       "        }if (force === true) {\n",
       "          display_loaded();\n",
       "        }} else if (Date.now() < window._bokeh_timeout) {\n",
       "        setTimeout(run_inline_js, 100);\n",
       "      } else if (!window._bokeh_failed_load) {\n",
       "        console.log(\"Bokeh: BokehJS failed to load within specified timeout.\");\n",
       "        window._bokeh_failed_load = true;\n",
       "      } else if (force !== true) {\n",
       "        var cell = $(document.getElementById(\"9dd420a4-bbef-4a6e-bc08-e446d991be1a\")).parents('.cell').data().cell;\n",
       "        cell.output_area.append_execute_result(NB_LOAD_WARNING)\n",
       "      }\n",
       "  \n",
       "    }\n",
       "  \n",
       "    if (window._bokeh_is_loading === 0) {\n",
       "      console.log(\"Bokeh: BokehJS loaded, going straight to plotting\");\n",
       "      run_inline_js();\n",
       "    } else {\n",
       "      load_libs(js_urls, function() {\n",
       "        console.log(\"Bokeh: BokehJS plotting callback run at\", now());\n",
       "        run_inline_js();\n",
       "      });\n",
       "    }\n",
       "  }(this));\n",
       "</script>"
      ]
     },
     "metadata": {},
     "output_type": "display_data"
    }
   ],
   "source": [
    "from bokeh.io import show, output_notebook\n",
    "\n",
    "output_notebook()\n",
    "\n",
    "# Add the circles.\n",
    "bigfoot_map.circle(point_x, point_y, alpha=0.3, size=2, color='black')\n",
    "\n",
    "# Add the patches.\n",
    "bigfoot_map.patches(xs = patch_xs, ys = patch_ys, fill_alpha=0.1, color=\"lightblue\")\n",
    "\n",
    "show(bigfoot_map)"
   ]
  },
  {
   "cell_type": "markdown",
   "metadata": {
    "slideshow": {
     "slide_type": "slide"
    }
   },
   "source": [
    "# References\n",
    "\n",
    "----\n",
    "\n",
    "## Bigfoot Field Research Organization (BFRO): [bfro.net](http://www.bfro.net/)\n",
    "## Bokeh: [bokeh.pydata.org](http://bokeh.pydata.org/en/latest/)\n",
    "## Shapely: [github.com/Toblerity/Shapely](https://github.com/Toblerity/Shapely)\n",
    "## Toolz: [toolz.readthedocs.io](http://toolz.readthedocs.io/en/latest/index.html)\n",
    "## GeoPandas: [geopandas.org](http://geopandas.org/index.html)\n",
    "## RISE: [github.com/damianavila/RISE](https://github.com/damianavila/RISE)"
   ]
  },
  {
   "cell_type": "markdown",
   "metadata": {
    "slideshow": {
     "slide_type": "slide"
    }
   },
   "source": [
    "# Code\n",
    "---\n",
    "\n",
    "## GitHub: [github.com/timothyrenner/bokeh_map_pydata]()"
   ]
  }
 ],
 "metadata": {
  "anaconda-cloud": {},
  "celltoolbar": "Slideshow",
  "kernelspec": {
   "display_name": "Python 3",
   "language": "python",
   "name": "python3"
  },
  "language_info": {
   "codemirror_mode": {
    "name": "ipython",
    "version": 3
   },
   "file_extension": ".py",
   "mimetype": "text/x-python",
   "name": "python",
   "nbconvert_exporter": "python",
   "pygments_lexer": "ipython3",
   "version": "3.6.1"
  },
  "nbpresent": {
   "slides": {
    "0f2d4232-9977-4ce3-b428-52fa744d03ac": {
     "id": "0f2d4232-9977-4ce3-b428-52fa744d03ac",
     "prev": "92cfaac6-3db9-41d9-99b0-f28de05cb8d7",
     "regions": {
      "09b5afb3-c180-4189-9548-3d818baa013f": {
       "attrs": {
        "height": 0.24820739459736438,
        "width": 0.8,
        "x": 0.1,
        "y": 0.09999999999999999
       },
       "content": {
        "cell": "1872c1fc-d75c-4c6d-a657-1d88f50d4292",
        "part": "source"
       },
       "id": "09b5afb3-c180-4189-9548-3d818baa013f"
      },
      "9aee3b5e-9b2d-4c2e-9716-cbe711b3829e": {
       "attrs": {
        "height": 0.5410227009279623,
        "width": 0.8,
        "x": 0.1,
        "y": 0.3589772990720377
       },
       "content": {
        "cell": "2182face-6d22-4e40-9d39-6b0bb71d6200",
        "part": "source"
       },
       "id": "9aee3b5e-9b2d-4c2e-9716-cbe711b3829e"
      }
     }
    },
    "3d15c2c3-130d-4b14-ba1e-f9d3bd8971a2": {
     "id": "3d15c2c3-130d-4b14-ba1e-f9d3bd8971a2",
     "prev": "60344fbc-2a44-4991-8dcb-47ab68935462",
     "regions": {
      "358b73fb-34e4-440e-97ec-fab9226940a5": {
       "attrs": {
        "height": 0.5410227009279623,
        "width": 0.8,
        "x": 0.1,
        "y": 0.3589772990720377
       },
       "content": {
        "cell": "21b98d8c-9af0-4b45-8e53-260667743202",
        "part": "source"
       },
       "id": "358b73fb-34e4-440e-97ec-fab9226940a5"
      },
      "5ca9f4c7-342f-49e3-8b4c-0f4f369aef0b": {
       "attrs": {
        "height": 0.24820739459736438,
        "width": 0.8,
        "x": 0.1,
        "y": 0.09999999999999999
       },
       "content": {
        "cell": "66c56f1c-e643-4556-9cb8-a9440027fd38",
        "part": "source"
       },
       "id": "5ca9f4c7-342f-49e3-8b4c-0f4f369aef0b"
      }
     }
    },
    "60344fbc-2a44-4991-8dcb-47ab68935462": {
     "id": "60344fbc-2a44-4991-8dcb-47ab68935462",
     "prev": "c46ac946-effb-4365-98d0-b21df60ed4ba",
     "regions": {
      "22ac0a38-89c1-4609-8d93-c2d2288fab4b": {
       "attrs": {
        "height": 0.5410227009279623,
        "width": 0.8,
        "x": 0.1,
        "y": 0.3589772990720377
       },
       "content": {
        "cell": "8b71ce57-b695-4e75-91cd-741e6375aed1",
        "part": "source"
       },
       "id": "22ac0a38-89c1-4609-8d93-c2d2288fab4b"
      },
      "b01d46b2-56a9-478b-a174-23d611b516fa": {
       "attrs": {
        "height": 0.24820739459736438,
        "width": 0.8,
        "x": 0.1,
        "y": 0.09999999999999999
       },
       "content": {
        "cell": "dd25ae5d-fbeb-4da4-9e51-024a5adf8e13",
        "part": "source"
       },
       "id": "b01d46b2-56a9-478b-a174-23d611b516fa"
      }
     }
    },
    "83b75c4a-5c42-4742-83f2-415cc8735b2f": {
     "id": "83b75c4a-5c42-4742-83f2-415cc8735b2f",
     "prev": "3d15c2c3-130d-4b14-ba1e-f9d3bd8971a2",
     "regions": {
      "c1859609-dd23-4dc8-aeb5-31a08cce3d35": {
       "attrs": {
        "height": 1,
        "width": 1,
        "x": 0,
        "y": 0
       },
       "content": {
        "cell": "2e59f1b3-2fe1-410d-a6f8-ce67b6d1d73f",
        "part": "source"
       },
       "id": "c1859609-dd23-4dc8-aeb5-31a08cce3d35"
      }
     }
    },
    "92cfaac6-3db9-41d9-99b0-f28de05cb8d7": {
     "id": "92cfaac6-3db9-41d9-99b0-f28de05cb8d7",
     "layout": "manual",
     "prev": "c24f984d-87cb-4b0b-bb4c-d39a8994907c",
     "regions": {
      "8f56e403-5b45-4391-8f58-0de23c61810a": {
       "attrs": {
        "height": 0.7812923592966452,
        "pad": 0.01,
        "width": 0.6157775522096283,
        "x": 0.17084750966496864,
        "y": 0.08506268914829226
       },
       "content": {
        "cell": "4ce1ded5-71df-41d6-a4db-5810ad18e86d",
        "part": "source"
       },
       "id": "8f56e403-5b45-4391-8f58-0de23c61810a"
      }
     }
    },
    "c24f984d-87cb-4b0b-bb4c-d39a8994907c": {
     "id": "c24f984d-87cb-4b0b-bb4c-d39a8994907c",
     "prev": null,
     "regions": {
      "2474567e-bfad-45dd-bec5-9ff878529404": {
       "attrs": {
        "height": 0.3728491137051449,
        "width": 0.8,
        "x": 0.1,
        "y": 0.1
       },
       "content": {
        "cell": "5e7d6e61-f038-4256-8575-217585806fd0",
        "part": "source"
       },
       "id": "2474567e-bfad-45dd-bec5-9ff878529404"
      },
      "71220d88-3e07-4052-b5cc-b7ffd69ffdf8": {
       "attrs": {
        "height": 0.4230004323389539,
        "width": 0.8,
        "x": 0.1,
        "y": 0.47699956766104623
       },
       "content": {
        "cell": "d329d71f-d7a1-4008-8b23-70fb5093035a",
        "part": "source"
       },
       "id": "71220d88-3e07-4052-b5cc-b7ffd69ffdf8"
      }
     }
    },
    "c46ac946-effb-4365-98d0-b21df60ed4ba": {
     "id": "c46ac946-effb-4365-98d0-b21df60ed4ba",
     "prev": "ffb7441d-9845-4fa6-8850-8af9522395d3",
     "regions": {
      "dbd90ba6-0849-4b2b-9f6f-64faf253bb15": {
       "attrs": {
        "height": 0.5410227009279623,
        "width": 0.8,
        "x": 0.1,
        "y": 0.3589772990720377
       },
       "content": {
        "cell": "d1330454-9597-4f64-8c9b-4733f50dc3fd",
        "part": "source"
       },
       "id": "dbd90ba6-0849-4b2b-9f6f-64faf253bb15"
      },
      "f4c7f065-7939-4b41-9d20-a408b5fa0e79": {
       "attrs": {
        "height": 0.24820739459736438,
        "width": 0.8,
        "x": 0.1,
        "y": 0.09999999999999999
       },
       "content": {
        "cell": "3c6fead0-0246-487b-bbc9-d2beca809831",
        "part": "source"
       },
       "id": "f4c7f065-7939-4b41-9d20-a408b5fa0e79"
      }
     }
    },
    "ffb7441d-9845-4fa6-8850-8af9522395d3": {
     "id": "ffb7441d-9845-4fa6-8850-8af9522395d3",
     "prev": "0f2d4232-9977-4ce3-b428-52fa744d03ac",
     "regions": {
      "3538bb07-f481-4bdb-8caa-152f1ea0b259": {
       "attrs": {
        "height": 0.5410227009279623,
        "width": 0.8,
        "x": 0.1,
        "y": 0.3589772990720377
       },
       "content": {
        "cell": "f39a34ad-dd11-4fe0-a4f5-396b3b672150",
        "part": "source"
       },
       "id": "3538bb07-f481-4bdb-8caa-152f1ea0b259"
      },
      "60d00721-0c6a-4ed2-9748-8ce614f010d0": {
       "attrs": {
        "height": 0.24820739459736438,
        "width": 0.8,
        "x": 0.1,
        "y": 0.09999999999999999
       },
       "content": {
        "cell": "c737ce52-31fc-4746-a363-0d96a51b9599",
        "part": "source"
       },
       "id": "60d00721-0c6a-4ed2-9748-8ce614f010d0"
      }
     }
    }
   },
   "themes": {}
  }
 },
 "nbformat": 4,
 "nbformat_minor": 1
}
